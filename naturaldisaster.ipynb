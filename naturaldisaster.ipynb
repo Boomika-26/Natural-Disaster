{
  "metadata": {
    "kernelspec": {
      "name": "python",
      "display_name": "Python (Pyodide)",
      "language": "python"
    },
    "language_info": {
      "codemirror_mode": {
        "name": "python",
        "version": 3
      },
      "file_extension": ".py",
      "mimetype": "text/x-python",
      "name": "python",
      "nbconvert_exporter": "python",
      "pygments_lexer": "ipython3",
      "version": "3.8"
    }
  },
  "nbformat_minor": 5,
  "nbformat": 4,
  "cells": [
    {
      "id": "45ae40b7-de5c-49bc-b5ee-1dc58379bb5b",
      "cell_type": "code",
      "source": "import random\nimport time\nfrom datetime import datetime\nimport matplotlib.pyplot as plt\n\n# Simulated disaster types\ndisasters = [\"Earthquake\", \"Flood\", \"Cyclone\", \"Wildfire\"]\n\n# Lists to store data for plotting\ntimestamps = []\nseverities = []\nlabels = []\n\n# Simulated data feed\ndef simulate_disaster_data():\n    return {\n        \"type\": random.choice(disasters),\n        \"location\": random.choice([\"California\", \"Mumbai\", \"Tokyo\", \"Jakarta\"]),\n        \"severity\": random.randint(1, 10),\n        \"timestamp\": datetime.now()\n    }\n\n# Prediction logic\ndef predict_disaster():\n    data = simulate_disaster_data()\n    readable_time = data['timestamp'].strftime(\"%H:%M:%S\")\n\n    print(\"\\n[Prediction]\")\n    print(f\"Disaster: {data['type']}\")\n    print(f\"Location: {data['location']}\")\n    print(f\"Severity Level: {data['severity']}/10\")\n    print(f\"Predicted Time: {readable_time}\")\n\n    # Store data for plot\n    timestamps.append(readable_time)\n    severities.append(data['severity'])\n    labels.append(f\"{data['type']} in {data['location']}\")\n\n    if data['severity'] > 7:\n        send_alert(data)\n    else:\n        print(\"Monitoring situation. No immediate action required.\")\n\n    # Optional: Save to file\n    # with open(\"disaster_log.csv\", \"a\") as f:\n    #     f.write(f\"{data['type']},{data['location']},{data['severity']},{readable_time}\\n\")\n\n# Alert logic\ndef send_alert(data):\n    print(\"\\n*** ALERT ***\")\n    print(f\"High risk of {data['type']} in {data['location']}!\")\n    print(\"Initiating emergency response protocols...\")\n\n# Scatter plot display\ndef show_scatter_plot():\n    plt.figure(figsize=(10, 5))\n    colors = ['red' if sev > 7 else 'orange' for sev in severities]\n    sizes = [s * 20 for s in severities]\n\n    plt.scatter(timestamps, severities, c=colors, s=sizes, alpha=0.6, edgecolors='k')\n\n    for i, label in enumerate(labels):\n        plt.text(timestamps[i], severities[i] + 0.3, label, fontsize=8, ha='center')\n\n    plt.title(\"Disaster Severity Over Time\")\n    plt.xlabel(\"Time\")\n    plt.ylabel(\"Severity Level (1–10)\")\n    plt.ylim(0, 11)\n    plt.grid(True)\n    plt.xticks(rotation=45)\n    plt.tight_layout()\n    plt.show()\n\n# Main execution\nif __name__ == \"__main__\":\n    print(\"Natural Disaster Prediction and Management System\")\n    for _ in range(5):  # Simulate multiple events\n        predict_disaster()\n        time.sleep(1)\n\n    show_scatter_plot()\n",
      "metadata": {
        "trusted": true
      },
      "outputs": [],
      "execution_count": null
    }
  ]
}